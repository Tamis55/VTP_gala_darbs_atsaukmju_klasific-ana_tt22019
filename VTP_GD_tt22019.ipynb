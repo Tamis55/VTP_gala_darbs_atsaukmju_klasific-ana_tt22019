{
  "cells": [
    {
      "cell_type": "code",
      "execution_count": null,
      "metadata": {},
      "outputs": [],
      "source": [
        "!wget https://raw.githubusercontent.com/Tamis55/VTP_gala_darbs_atsaukmju_klasific-ana_tt22019/refs/heads/main/reviews_with_genre.csv\n",
        "!wget https://raw.githubusercontent.com/Tamis55/VTP_gala_darbs_atsaukmju_klasific-ana_tt22019/refs/heads/main/genre_classifier.pkl\n",
        "!wget https://raw.githubusercontent.com/Tamis55/VTP_gala_darbs_atsaukmju_klasific-ana_tt22019/refs/heads/main/tfidf_vectorizer.pkl"
      ]
    },
    {
      "cell_type": "code",
      "execution_count": 135,
      "metadata": {
        "id": "r2nI0St5Ej08"
      },
      "outputs": [],
      "source": [
        "import pandas as pd\n",
        "import re\n",
        "import numpy as np\n",
        "from nltk.stem import WordNetLemmatizer\n",
        "from nltk.corpus import stopwords\n",
        "import nltk\n",
        "from sklearn.feature_extraction.text import TfidfVectorizer\n",
        "from sklearn.naive_bayes import MultinomialNB\n",
        "from sklearn.model_selection import train_test_split\n",
        "from sklearn.metrics import classification_report, accuracy_score\n",
        "import joblib\n",
        "import multiprocessing"
      ]
    },
    {
      "cell_type": "code",
      "execution_count": 136,
      "metadata": {
        "id": "qMQrOckEI5T0"
      },
      "outputs": [],
      "source": [
        "nltk.download('stopwords', quiet=True)\n",
        "nltk.download('wordnet', quiet=True)\n",
        "\n",
        "stop_words = set(stopwords.words('english'))\n",
        "lemmatizer = WordNetLemmatizer()"
      ]
    },
    {
      "cell_type": "code",
      "execution_count": 137,
      "metadata": {
        "id": "R55TGbUabgp-"
      },
      "outputs": [],
      "source": [
        "from collections import defaultdict\n",
        "\n",
        "GENRE_GROUPS = {\n",
        "    \"Action\": [\n",
        "        \"Shooter\", \"First-Person\", \"Third-Person\", \"Platformer\", \"Horror\",\n",
        "        \"Arcade\", \"Scrolling\", \"2D\", \"Military\", \"Modern\"\n",
        "    ],\n",
        "    \"Role-Playing\": [\n",
        "        \"PC-style RPG\", \"Console-style RPG\", \"Massively Multiplayer Online\",\n",
        "        \"Action RPG\", \"Japanese-Style\", \"Traditional\", \"Card Battle\",\n",
        "        \"Massively Multiplayer\", \"MMI\", \"MMII\", \"Turn-Based\", \"Fantasy\"\n",
        "    ],\n",
        "    \"Sports\": [\n",
        "        \"Fighting\", \"Ice Hockey\", \"GI / Street\", \"Dancing\",\n",
        "        \"Alternative\", \"Street\"\n",
        "    ],\n",
        "    \"Racing\": [\"Driving\", \"Racing\"],\n",
        "    \"Simulation\": [\n",
        "        \"Breeding/Constructing\", \"City Building\", \"Tycoon\", \"Government\",\n",
        "        \"Educationent\", \"Real-Time\", \"Sim\", \"Flight\"\n",
        "    ],\n",
        "    \"Adventure\": [\"Puzzle\", \"Historic\"],\n",
        "    \"Strategy\": [\"General\", \"No info\", \"Compilation\", \"Other\"],\n",
        "    \"Miscellaneous\": [\"Party\", \"Music\", \"Tycoon\", \"Card Battle\", \"Dancing\"]\n",
        "}"
      ]
    },
    {
      "cell_type": "code",
      "execution_count": 138,
      "metadata": {
        "id": "zVn-x_Tubu0n"
      },
      "outputs": [],
      "source": [
        "REVERSE_MAP = {}\n",
        "BROAD_GENRES = set(GENRE_GROUPS.keys())\n",
        "for broad, subs in GENRE_GROUPS.items():\n",
        "    for sub in subs:\n",
        "        REVERSE_MAP[sub.lower()] = broad\n",
        "\n",
        "def map_to_broad_genre(genre):\n",
        "    \"\"\"Map detailed genre to broad category\"\"\"\n",
        "    if not isinstance(genre, str):\n",
        "        return \"Miscellaneous\"\n",
        "\n",
        "    genre_lower = genre.lower().strip()\n",
        "\n",
        "\n",
        "    if genre_lower in (g.lower() for g in BROAD_GENRES):\n",
        "        return genre\n",
        "\n",
        "    if genre_lower in REVERSE_MAP:\n",
        "        return REVERSE_MAP[genre_lower]\n",
        "\n",
        "\n",
        "    return \"Miscellaneous\""
      ]
    },
    {
      "cell_type": "code",
      "execution_count": 139,
      "metadata": {
        "id": "r7PZV5p-JC4G"
      },
      "outputs": [],
      "source": [
        "def normalize_text(text):\n",
        "    if not isinstance(text, str) or text.strip() == \"\":\n",
        "        return \"\"\n",
        "\n",
        "    try:\n",
        "\n",
        "        text = re.sub(r'[^a-zA-Z\\s]', '', text.lower())\n",
        "\n",
        "\n",
        "        tokens = [word for word in text.split()\n",
        "                 if len(word) > 2 and word not in stop_words]\n",
        "\n",
        "\n",
        "        tokens = [lemmatizer.lemmatize(word) for word in tokens]\n",
        "\n",
        "        return \" \".join(tokens)\n",
        "    except Exception as e:\n",
        "        print(f\"Error processing text: {text[:50]}... Error: {str(e)}\")\n",
        "        return \"\""
      ]
    },
    {
      "cell_type": "code",
      "execution_count": 140,
      "metadata": {
        "id": "a3roVNn2mzA6"
      },
      "outputs": [],
      "source": [
        "def get_top_predictions(model, vectorizer, text, top_n=3):\n",
        "    clean_text = normalize_text(text)\n",
        "    if not clean_text:\n",
        "        return []\n",
        "\n",
        "    vec = vectorizer.transform([clean_text])\n",
        "\n",
        "    probabilities = model.predict_proba(vec)[0]\n",
        "    sorted_indices = np.argsort(probabilities)[::-1]\n",
        "\n",
        "    top_predictions = [\n",
        "        (model.classes_[idx], probabilities[idx])\n",
        "        for idx in sorted_indices[:top_n]\n",
        "    ]\n",
        "\n",
        "    return top_predictions"
      ]
    },
    {
      "cell_type": "code",
      "execution_count": 141,
      "metadata": {
        "id": "DMt77CCNJR5-"
      },
      "outputs": [],
      "source": [
        "INPUT_FILE = 'reviews_with_genre.csv'\n",
        "TOTAL_SAMPLE = 320000\n",
        "TRAIN_SIZE = 256000\n",
        "TEST_SIZE = 64000\n",
        "CHUNK_SIZE = 25000\n",
        "MAX_FEATURES = 35000"
      ]
    },
    {
      "cell_type": "code",
      "execution_count": 142,
      "metadata": {
        "colab": {
          "base_uri": "https://localhost:8080/"
        },
        "id": "tXEs_7GFJqKY",
        "outputId": "8031d54d-b92b-4179-b22e-271fc3fd3c4d"
      },
      "outputs": [
        {
          "name": "stdout",
          "output_type": "stream",
          "text": [
            "Counting total rows...\n",
            "Total rows: 321,248\n"
          ]
        }
      ],
      "source": [
        "print(\"Counting total rows...\")\n",
        "with open(INPUT_FILE, 'r', encoding='utf-8') as f:\n",
        "    total_rows = sum(1 for _ in f) - 1\n",
        "\n",
        "print(f\"Total rows: {total_rows:,}\")"
      ]
    },
    {
      "cell_type": "code",
      "execution_count": 143,
      "metadata": {
        "id": "Kztkt7zYNh28"
      },
      "outputs": [],
      "source": [
        "np.random.seed(42)\n",
        "sample_indices = set(np.random.choice(total_rows, TOTAL_SAMPLE, replace=False))\n"
      ]
    },
    {
      "cell_type": "code",
      "execution_count": 144,
      "metadata": {
        "colab": {
          "base_uri": "https://localhost:8080/"
        },
        "id": "KKqVmGY-Nkne",
        "outputId": "e5b9ecb0-10e3-42a8-a86f-be99b1b2ab7b"
      },
      "outputs": [
        {
          "name": "stdout",
          "output_type": "stream",
          "text": [
            "\n",
            "Collecting sample data...\n",
            "Chunk 1: Collected 24888 rows\n",
            "Chunk 2: Collected 24900 rows\n",
            "Chunk 3: Collected 24907 rows\n",
            "Chunk 4: Collected 24913 rows\n",
            "Chunk 5: Collected 24896 rows\n",
            "Chunk 6: Collected 24880 rows\n",
            "Chunk 7: Collected 24913 rows\n",
            "Chunk 8: Collected 24898 rows\n",
            "Chunk 9: Collected 24897 rows\n",
            "Chunk 10: Collected 24922 rows\n",
            "Chunk 11: Collected 24903 rows\n",
            "Chunk 12: Collected 24918 rows\n",
            "Chunk 13: Collected 21164 rows\n"
          ]
        }
      ],
      "source": [
        "print(\"\\nCollecting sample data...\")\n",
        "chunks = pd.read_csv(INPUT_FILE, chunksize=CHUNK_SIZE, usecols=['Review', 'genre'])\n",
        "sample_data = []\n",
        "processed_chunks = 0\n",
        "\n",
        "for i, chunk in enumerate(chunks):\n",
        "\n",
        "    if i == 0:\n",
        "        chunk = chunk.iloc[1:]\n",
        "\n",
        "\n",
        "    start_idx = i * CHUNK_SIZE\n",
        "    end_idx = start_idx + len(chunk)\n",
        "    chunk_indices = range(start_idx, end_idx)\n",
        "\n",
        "\n",
        "    mask = [idx in sample_indices for idx in chunk_indices]\n",
        "\n",
        "    selected_chunk = chunk[mask].copy()\n",
        "    if not selected_chunk.empty:\n",
        "        sample_data.append(selected_chunk)\n",
        "        processed_chunks += 1\n",
        "        print(f\"Chunk {i+1}: Collected {len(selected_chunk)} rows\")\n",
        "\n",
        "    if len(sample_data) > 0 and sum(len(df) for df in sample_data) >= TOTAL_SAMPLE:\n",
        "        print(\"Reached sample size target\")\n",
        "        break\n"
      ]
    },
    {
      "cell_type": "code",
      "execution_count": 145,
      "metadata": {
        "colab": {
          "base_uri": "https://localhost:8080/"
        },
        "id": "0EIxe8sdNzzY",
        "outputId": "6fc7cba7-b274-4677-c973-ae8e7e08df25"
      },
      "outputs": [
        {
          "name": "stdout",
          "output_type": "stream",
          "text": [
            "\n",
            "Final sample size: 319,999\n"
          ]
        }
      ],
      "source": [
        "df_sample = pd.concat(sample_data).sample(frac=1, random_state=42)[:TOTAL_SAMPLE]\n",
        "print(f\"\\nFinal sample size: {len(df_sample):,}\")\n"
      ]
    },
    {
      "cell_type": "code",
      "execution_count": 146,
      "metadata": {
        "id": "FItFL29PN3Y7"
      },
      "outputs": [],
      "source": [
        "df_sample['primary_genre'] = df_sample['genre'].str.split(',').str[0].str.strip()\n",
        "df_sample = df_sample.dropna(subset=['primary_genre'])\n",
        "df_sample = df_sample[df_sample['primary_genre'] != '']\n",
        "df_sample['primary_genre'] = df_sample['primary_genre'].astype(str)\n",
        "df_sample['broad_genre'] = df_sample['primary_genre'].apply(map_to_broad_genre)"
      ]
    },
    {
      "cell_type": "code",
      "execution_count": 147,
      "metadata": {
        "id": "3AdRMBamck8R"
      },
      "outputs": [],
      "source": [
        "df_sample = df_sample.dropna(subset=['broad_genre'])\n",
        "df_sample = df_sample[df_sample['broad_genre'] != '']\n",
        "df_sample['broad_genre'] = df_sample['broad_genre'].astype(str)"
      ]
    },
    {
      "cell_type": "code",
      "execution_count": 148,
      "metadata": {
        "colab": {
          "base_uri": "https://localhost:8080/"
        },
        "id": "YNm6OfMdN6Mn",
        "outputId": "931a01da-4e9b-42ba-f966-89c98930f8ff"
      },
      "outputs": [
        {
          "name": "stdout",
          "output_type": "stream",
          "text": [
            "\n",
            "Normalizing text...\n"
          ]
        },
        {
          "name": "stderr",
          "output_type": "stream",
          "text": [
            "/tmp/ipython-input-148-916722648.py:4: SettingWithCopyWarning: \n",
            "A value is trying to be set on a copy of a slice from a DataFrame.\n",
            "Try using .loc[row_indexer,col_indexer] = value instead\n",
            "\n",
            "See the caveats in the documentation: https://pandas.pydata.org/pandas-docs/stable/user_guide/indexing.html#returning-a-view-versus-a-copy\n",
            "  df_sample['clean_review'] = df_sample['clean_review'].astype(str)\n"
          ]
        }
      ],
      "source": [
        "print(\"\\nNormalizing text...\")\n",
        "df_sample['clean_review'] = df_sample['Review'].apply(normalize_text)\n",
        "df_sample = df_sample[df_sample['clean_review'].str.len() > 0]\n",
        "df_sample['clean_review'] = df_sample['clean_review'].astype(str)"
      ]
    },
    {
      "cell_type": "code",
      "execution_count": 149,
      "metadata": {
        "colab": {
          "base_uri": "https://localhost:8080/"
        },
        "id": "g6Vjilz3N_cZ",
        "outputId": "71bb3c4b-2ca2-4feb-b7f5-4eace83c5aef"
      },
      "outputs": [
        {
          "name": "stdout",
          "output_type": "stream",
          "text": [
            "\n",
            "Final cleaned sample size: 270,169\n",
            "Genre distribution:\n",
            " primary_genre\n",
            "Action                          0.330993\n",
            "Role-Playing                    0.122386\n",
            "Action Adventure                0.121183\n",
            "Strategy                        0.089111\n",
            "Sports                          0.073798\n",
            "Miscellaneous                   0.067698\n",
            "Adventure                       0.048925\n",
            "Driving                         0.047356\n",
            "Simulation                      0.032024\n",
            "General                         0.014794\n",
            "Racing                          0.011012\n",
            "Puzzle                          0.006936\n",
            "Sci-Fi                          0.005071\n",
            "Fantasy                         0.004545\n",
            "Action RPG                      0.003753\n",
            "Modern                          0.003457\n",
            "Shooter                         0.003335\n",
            "Horror                          0.001932\n",
            "Historic                        0.001451\n",
            "Platformer                      0.001107\n",
            "PC-style RPG                    0.000962\n",
            "GT / Street                     0.000840\n",
            "First-Person                    0.000718\n",
            "Japanese-Style                  0.000648\n",
            "Traditional                     0.000570\n",
            "Arcade                          0.000470\n",
            "Party                           0.000418\n",
            "Tycoon                          0.000381\n",
            "Massively Multiplayer Online    0.000366\n",
            "No info                         0.000363\n",
            "Console-style RPG               0.000333\n",
            "Card Battle                     0.000274\n",
            "Music                           0.000215\n",
            "Third-Person                    0.000204\n",
            "2D                              0.000189\n",
            "Compilation                     0.000189\n",
            "City Building                   0.000185\n",
            "Other                           0.000185\n",
            "Scrolling                       0.000163\n",
            "Military                        0.000159\n",
            "Dancing                         0.000159\n",
            "Ice Hockey                      0.000152\n",
            "Breeding/Constructing           0.000144\n",
            "Sim                             0.000133\n",
            "Fighting                        0.000118\n",
            "WWII                            0.000089\n",
            "Edutainment                     0.000078\n",
            "Real-Time                       0.000067\n",
            "Alternative                     0.000052\n",
            "Flight                          0.000052\n",
            "Government                      0.000044\n",
            "Massively Multiplayer           0.000044\n",
            "Turn-Based                      0.000044\n",
            "Street                          0.000041\n",
            "MOBA                            0.000030\n",
            "WWI                             0.000026\n",
            "Tactical                        0.000026\n",
            "Name: proportion, dtype: float64\n"
          ]
        }
      ],
      "source": [
        "df_sample = df_sample.iloc[:TOTAL_SAMPLE]\n",
        "print(f\"\\nFinal cleaned sample size: {len(df_sample):,}\")\n",
        "print(\"Genre distribution:\\n\", df_sample['primary_genre'].value_counts(normalize=True))"
      ]
    },
    {
      "cell_type": "code",
      "execution_count": 150,
      "metadata": {
        "colab": {
          "base_uri": "https://localhost:8080/"
        },
        "id": "H5-dzEHCc4Py",
        "outputId": "67a98210-e3f4-452b-ffd7-aad378411551"
      },
      "outputs": [
        {
          "name": "stdout",
          "output_type": "stream",
          "text": [
            "\n",
            "Original genre distribution:\n",
            "primary_genre\n",
            "Action              0.330993\n",
            "Role-Playing        0.122386\n",
            "Action Adventure    0.121183\n",
            "Strategy            0.089111\n",
            "Sports              0.073798\n",
            "Miscellaneous       0.067698\n",
            "Adventure           0.048925\n",
            "Driving             0.047356\n",
            "Simulation          0.032024\n",
            "General             0.014794\n",
            "Name: proportion, dtype: float64\n"
          ]
        }
      ],
      "source": [
        "\n",
        "print(\"\\nOriginal genre distribution:\")\n",
        "print(df_sample['primary_genre'].value_counts(normalize=True).head(10))"
      ]
    },
    {
      "cell_type": "code",
      "execution_count": 151,
      "metadata": {
        "colab": {
          "base_uri": "https://localhost:8080/"
        },
        "id": "rUWnLausdBbs",
        "outputId": "efdf960e-23e9-4518-f68f-c2d7e9d118af"
      },
      "outputs": [
        {
          "name": "stdout",
          "output_type": "stream",
          "text": [
            "\n",
            "Broad genre distribution:\n",
            "broad_genre\n",
            "Action           0.342726\n",
            "Miscellaneous    0.196488\n",
            "Role-Playing     0.133653\n",
            "Strategy         0.104642\n",
            "Sports           0.074161\n",
            "Racing           0.058367\n",
            "Adventure        0.057312\n",
            "Simulation       0.032650\n",
            "Name: proportion, dtype: float64\n",
            "\n",
            "Number of classes: 8\n"
          ]
        }
      ],
      "source": [
        "print(\"\\nBroad genre distribution:\")\n",
        "broad_dist = df_sample['broad_genre'].value_counts(normalize=True)\n",
        "print(broad_dist)\n",
        "print(f\"\\nNumber of classes: {len(broad_dist)}\")"
      ]
    },
    {
      "cell_type": "code",
      "execution_count": 152,
      "metadata": {
        "id": "1WjOn_WIODLC"
      },
      "outputs": [],
      "source": [
        "\n",
        "df_train = df_sample.iloc[:TRAIN_SIZE]\n",
        "df_test = df_sample.iloc[TRAIN_SIZE:TRAIN_SIZE+TEST_SIZE]\n",
        "\n",
        "\n",
        "X_train = df_train['clean_review']\n",
        "y_train = df_train['broad_genre']\n",
        "X_test = df_test['clean_review']\n",
        "y_test = df_test['broad_genre']"
      ]
    },
    {
      "cell_type": "code",
      "execution_count": 153,
      "metadata": {
        "colab": {
          "base_uri": "https://localhost:8080/"
        },
        "id": "0xkwSfBMOHAp",
        "outputId": "15442542-30f4-4d66-f980-61aeabd37c22"
      },
      "outputs": [
        {
          "name": "stdout",
          "output_type": "stream",
          "text": [
            "\n",
            "Vectorizing text...\n"
          ]
        }
      ],
      "source": [
        "print(\"\\nVectorizing text...\")\n",
        "vectorizer = TfidfVectorizer(\n",
        "    max_features=MAX_FEATURES,\n",
        "    ngram_range=(1, 2),\n",
        "    min_df=5,\n",
        "    max_df=0.7\n",
        ")\n",
        "X_train_vec = vectorizer.fit_transform(X_train)\n",
        "X_test_vec = vectorizer.transform(X_test)"
      ]
    },
    {
      "cell_type": "code",
      "execution_count": 154,
      "metadata": {
        "colab": {
          "base_uri": "https://localhost:8080/",
          "height": 98
        },
        "id": "GO_-GkT0OMyS",
        "outputId": "00954033-2372-4063-f3b1-928db2954545"
      },
      "outputs": [
        {
          "name": "stdout",
          "output_type": "stream",
          "text": [
            "Training model...\n"
          ]
        },
        {
          "data": {
            "text/html": [
              "<style>#sk-container-id-6 {\n",
              "  /* Definition of color scheme common for light and dark mode */\n",
              "  --sklearn-color-text: #000;\n",
              "  --sklearn-color-text-muted: #666;\n",
              "  --sklearn-color-line: gray;\n",
              "  /* Definition of color scheme for unfitted estimators */\n",
              "  --sklearn-color-unfitted-level-0: #fff5e6;\n",
              "  --sklearn-color-unfitted-level-1: #f6e4d2;\n",
              "  --sklearn-color-unfitted-level-2: #ffe0b3;\n",
              "  --sklearn-color-unfitted-level-3: chocolate;\n",
              "  /* Definition of color scheme for fitted estimators */\n",
              "  --sklearn-color-fitted-level-0: #f0f8ff;\n",
              "  --sklearn-color-fitted-level-1: #d4ebff;\n",
              "  --sklearn-color-fitted-level-2: #b3dbfd;\n",
              "  --sklearn-color-fitted-level-3: cornflowerblue;\n",
              "\n",
              "  /* Specific color for light theme */\n",
              "  --sklearn-color-text-on-default-background: var(--sg-text-color, var(--theme-code-foreground, var(--jp-content-font-color1, black)));\n",
              "  --sklearn-color-background: var(--sg-background-color, var(--theme-background, var(--jp-layout-color0, white)));\n",
              "  --sklearn-color-border-box: var(--sg-text-color, var(--theme-code-foreground, var(--jp-content-font-color1, black)));\n",
              "  --sklearn-color-icon: #696969;\n",
              "\n",
              "  @media (prefers-color-scheme: dark) {\n",
              "    /* Redefinition of color scheme for dark theme */\n",
              "    --sklearn-color-text-on-default-background: var(--sg-text-color, var(--theme-code-foreground, var(--jp-content-font-color1, white)));\n",
              "    --sklearn-color-background: var(--sg-background-color, var(--theme-background, var(--jp-layout-color0, #111)));\n",
              "    --sklearn-color-border-box: var(--sg-text-color, var(--theme-code-foreground, var(--jp-content-font-color1, white)));\n",
              "    --sklearn-color-icon: #878787;\n",
              "  }\n",
              "}\n",
              "\n",
              "#sk-container-id-6 {\n",
              "  color: var(--sklearn-color-text);\n",
              "}\n",
              "\n",
              "#sk-container-id-6 pre {\n",
              "  padding: 0;\n",
              "}\n",
              "\n",
              "#sk-container-id-6 input.sk-hidden--visually {\n",
              "  border: 0;\n",
              "  clip: rect(1px 1px 1px 1px);\n",
              "  clip: rect(1px, 1px, 1px, 1px);\n",
              "  height: 1px;\n",
              "  margin: -1px;\n",
              "  overflow: hidden;\n",
              "  padding: 0;\n",
              "  position: absolute;\n",
              "  width: 1px;\n",
              "}\n",
              "\n",
              "#sk-container-id-6 div.sk-dashed-wrapped {\n",
              "  border: 1px dashed var(--sklearn-color-line);\n",
              "  margin: 0 0.4em 0.5em 0.4em;\n",
              "  box-sizing: border-box;\n",
              "  padding-bottom: 0.4em;\n",
              "  background-color: var(--sklearn-color-background);\n",
              "}\n",
              "\n",
              "#sk-container-id-6 div.sk-container {\n",
              "  /* jupyter's `normalize.less` sets `[hidden] { display: none; }`\n",
              "     but bootstrap.min.css set `[hidden] { display: none !important; }`\n",
              "     so we also need the `!important` here to be able to override the\n",
              "     default hidden behavior on the sphinx rendered scikit-learn.org.\n",
              "     See: https://github.com/scikit-learn/scikit-learn/issues/21755 */\n",
              "  display: inline-block !important;\n",
              "  position: relative;\n",
              "}\n",
              "\n",
              "#sk-container-id-6 div.sk-text-repr-fallback {\n",
              "  display: none;\n",
              "}\n",
              "\n",
              "div.sk-parallel-item,\n",
              "div.sk-serial,\n",
              "div.sk-item {\n",
              "  /* draw centered vertical line to link estimators */\n",
              "  background-image: linear-gradient(var(--sklearn-color-text-on-default-background), var(--sklearn-color-text-on-default-background));\n",
              "  background-size: 2px 100%;\n",
              "  background-repeat: no-repeat;\n",
              "  background-position: center center;\n",
              "}\n",
              "\n",
              "/* Parallel-specific style estimator block */\n",
              "\n",
              "#sk-container-id-6 div.sk-parallel-item::after {\n",
              "  content: \"\";\n",
              "  width: 100%;\n",
              "  border-bottom: 2px solid var(--sklearn-color-text-on-default-background);\n",
              "  flex-grow: 1;\n",
              "}\n",
              "\n",
              "#sk-container-id-6 div.sk-parallel {\n",
              "  display: flex;\n",
              "  align-items: stretch;\n",
              "  justify-content: center;\n",
              "  background-color: var(--sklearn-color-background);\n",
              "  position: relative;\n",
              "}\n",
              "\n",
              "#sk-container-id-6 div.sk-parallel-item {\n",
              "  display: flex;\n",
              "  flex-direction: column;\n",
              "}\n",
              "\n",
              "#sk-container-id-6 div.sk-parallel-item:first-child::after {\n",
              "  align-self: flex-end;\n",
              "  width: 50%;\n",
              "}\n",
              "\n",
              "#sk-container-id-6 div.sk-parallel-item:last-child::after {\n",
              "  align-self: flex-start;\n",
              "  width: 50%;\n",
              "}\n",
              "\n",
              "#sk-container-id-6 div.sk-parallel-item:only-child::after {\n",
              "  width: 0;\n",
              "}\n",
              "\n",
              "/* Serial-specific style estimator block */\n",
              "\n",
              "#sk-container-id-6 div.sk-serial {\n",
              "  display: flex;\n",
              "  flex-direction: column;\n",
              "  align-items: center;\n",
              "  background-color: var(--sklearn-color-background);\n",
              "  padding-right: 1em;\n",
              "  padding-left: 1em;\n",
              "}\n",
              "\n",
              "\n",
              "/* Toggleable style: style used for estimator/Pipeline/ColumnTransformer box that is\n",
              "clickable and can be expanded/collapsed.\n",
              "- Pipeline and ColumnTransformer use this feature and define the default style\n",
              "- Estimators will overwrite some part of the style using the `sk-estimator` class\n",
              "*/\n",
              "\n",
              "/* Pipeline and ColumnTransformer style (default) */\n",
              "\n",
              "#sk-container-id-6 div.sk-toggleable {\n",
              "  /* Default theme specific background. It is overwritten whether we have a\n",
              "  specific estimator or a Pipeline/ColumnTransformer */\n",
              "  background-color: var(--sklearn-color-background);\n",
              "}\n",
              "\n",
              "/* Toggleable label */\n",
              "#sk-container-id-6 label.sk-toggleable__label {\n",
              "  cursor: pointer;\n",
              "  display: flex;\n",
              "  width: 100%;\n",
              "  margin-bottom: 0;\n",
              "  padding: 0.5em;\n",
              "  box-sizing: border-box;\n",
              "  text-align: center;\n",
              "  align-items: start;\n",
              "  justify-content: space-between;\n",
              "  gap: 0.5em;\n",
              "}\n",
              "\n",
              "#sk-container-id-6 label.sk-toggleable__label .caption {\n",
              "  font-size: 0.6rem;\n",
              "  font-weight: lighter;\n",
              "  color: var(--sklearn-color-text-muted);\n",
              "}\n",
              "\n",
              "#sk-container-id-6 label.sk-toggleable__label-arrow:before {\n",
              "  /* Arrow on the left of the label */\n",
              "  content: \"▸\";\n",
              "  float: left;\n",
              "  margin-right: 0.25em;\n",
              "  color: var(--sklearn-color-icon);\n",
              "}\n",
              "\n",
              "#sk-container-id-6 label.sk-toggleable__label-arrow:hover:before {\n",
              "  color: var(--sklearn-color-text);\n",
              "}\n",
              "\n",
              "/* Toggleable content - dropdown */\n",
              "\n",
              "#sk-container-id-6 div.sk-toggleable__content {\n",
              "  max-height: 0;\n",
              "  max-width: 0;\n",
              "  overflow: hidden;\n",
              "  text-align: left;\n",
              "  /* unfitted */\n",
              "  background-color: var(--sklearn-color-unfitted-level-0);\n",
              "}\n",
              "\n",
              "#sk-container-id-6 div.sk-toggleable__content.fitted {\n",
              "  /* fitted */\n",
              "  background-color: var(--sklearn-color-fitted-level-0);\n",
              "}\n",
              "\n",
              "#sk-container-id-6 div.sk-toggleable__content pre {\n",
              "  margin: 0.2em;\n",
              "  border-radius: 0.25em;\n",
              "  color: var(--sklearn-color-text);\n",
              "  /* unfitted */\n",
              "  background-color: var(--sklearn-color-unfitted-level-0);\n",
              "}\n",
              "\n",
              "#sk-container-id-6 div.sk-toggleable__content.fitted pre {\n",
              "  /* unfitted */\n",
              "  background-color: var(--sklearn-color-fitted-level-0);\n",
              "}\n",
              "\n",
              "#sk-container-id-6 input.sk-toggleable__control:checked~div.sk-toggleable__content {\n",
              "  /* Expand drop-down */\n",
              "  max-height: 200px;\n",
              "  max-width: 100%;\n",
              "  overflow: auto;\n",
              "}\n",
              "\n",
              "#sk-container-id-6 input.sk-toggleable__control:checked~label.sk-toggleable__label-arrow:before {\n",
              "  content: \"▾\";\n",
              "}\n",
              "\n",
              "/* Pipeline/ColumnTransformer-specific style */\n",
              "\n",
              "#sk-container-id-6 div.sk-label input.sk-toggleable__control:checked~label.sk-toggleable__label {\n",
              "  color: var(--sklearn-color-text);\n",
              "  background-color: var(--sklearn-color-unfitted-level-2);\n",
              "}\n",
              "\n",
              "#sk-container-id-6 div.sk-label.fitted input.sk-toggleable__control:checked~label.sk-toggleable__label {\n",
              "  background-color: var(--sklearn-color-fitted-level-2);\n",
              "}\n",
              "\n",
              "/* Estimator-specific style */\n",
              "\n",
              "/* Colorize estimator box */\n",
              "#sk-container-id-6 div.sk-estimator input.sk-toggleable__control:checked~label.sk-toggleable__label {\n",
              "  /* unfitted */\n",
              "  background-color: var(--sklearn-color-unfitted-level-2);\n",
              "}\n",
              "\n",
              "#sk-container-id-6 div.sk-estimator.fitted input.sk-toggleable__control:checked~label.sk-toggleable__label {\n",
              "  /* fitted */\n",
              "  background-color: var(--sklearn-color-fitted-level-2);\n",
              "}\n",
              "\n",
              "#sk-container-id-6 div.sk-label label.sk-toggleable__label,\n",
              "#sk-container-id-6 div.sk-label label {\n",
              "  /* The background is the default theme color */\n",
              "  color: var(--sklearn-color-text-on-default-background);\n",
              "}\n",
              "\n",
              "/* On hover, darken the color of the background */\n",
              "#sk-container-id-6 div.sk-label:hover label.sk-toggleable__label {\n",
              "  color: var(--sklearn-color-text);\n",
              "  background-color: var(--sklearn-color-unfitted-level-2);\n",
              "}\n",
              "\n",
              "/* Label box, darken color on hover, fitted */\n",
              "#sk-container-id-6 div.sk-label.fitted:hover label.sk-toggleable__label.fitted {\n",
              "  color: var(--sklearn-color-text);\n",
              "  background-color: var(--sklearn-color-fitted-level-2);\n",
              "}\n",
              "\n",
              "/* Estimator label */\n",
              "\n",
              "#sk-container-id-6 div.sk-label label {\n",
              "  font-family: monospace;\n",
              "  font-weight: bold;\n",
              "  display: inline-block;\n",
              "  line-height: 1.2em;\n",
              "}\n",
              "\n",
              "#sk-container-id-6 div.sk-label-container {\n",
              "  text-align: center;\n",
              "}\n",
              "\n",
              "/* Estimator-specific */\n",
              "#sk-container-id-6 div.sk-estimator {\n",
              "  font-family: monospace;\n",
              "  border: 1px dotted var(--sklearn-color-border-box);\n",
              "  border-radius: 0.25em;\n",
              "  box-sizing: border-box;\n",
              "  margin-bottom: 0.5em;\n",
              "  /* unfitted */\n",
              "  background-color: var(--sklearn-color-unfitted-level-0);\n",
              "}\n",
              "\n",
              "#sk-container-id-6 div.sk-estimator.fitted {\n",
              "  /* fitted */\n",
              "  background-color: var(--sklearn-color-fitted-level-0);\n",
              "}\n",
              "\n",
              "/* on hover */\n",
              "#sk-container-id-6 div.sk-estimator:hover {\n",
              "  /* unfitted */\n",
              "  background-color: var(--sklearn-color-unfitted-level-2);\n",
              "}\n",
              "\n",
              "#sk-container-id-6 div.sk-estimator.fitted:hover {\n",
              "  /* fitted */\n",
              "  background-color: var(--sklearn-color-fitted-level-2);\n",
              "}\n",
              "\n",
              "/* Specification for estimator info (e.g. \"i\" and \"?\") */\n",
              "\n",
              "/* Common style for \"i\" and \"?\" */\n",
              "\n",
              ".sk-estimator-doc-link,\n",
              "a:link.sk-estimator-doc-link,\n",
              "a:visited.sk-estimator-doc-link {\n",
              "  float: right;\n",
              "  font-size: smaller;\n",
              "  line-height: 1em;\n",
              "  font-family: monospace;\n",
              "  background-color: var(--sklearn-color-background);\n",
              "  border-radius: 1em;\n",
              "  height: 1em;\n",
              "  width: 1em;\n",
              "  text-decoration: none !important;\n",
              "  margin-left: 0.5em;\n",
              "  text-align: center;\n",
              "  /* unfitted */\n",
              "  border: var(--sklearn-color-unfitted-level-1) 1pt solid;\n",
              "  color: var(--sklearn-color-unfitted-level-1);\n",
              "}\n",
              "\n",
              ".sk-estimator-doc-link.fitted,\n",
              "a:link.sk-estimator-doc-link.fitted,\n",
              "a:visited.sk-estimator-doc-link.fitted {\n",
              "  /* fitted */\n",
              "  border: var(--sklearn-color-fitted-level-1) 1pt solid;\n",
              "  color: var(--sklearn-color-fitted-level-1);\n",
              "}\n",
              "\n",
              "/* On hover */\n",
              "div.sk-estimator:hover .sk-estimator-doc-link:hover,\n",
              ".sk-estimator-doc-link:hover,\n",
              "div.sk-label-container:hover .sk-estimator-doc-link:hover,\n",
              ".sk-estimator-doc-link:hover {\n",
              "  /* unfitted */\n",
              "  background-color: var(--sklearn-color-unfitted-level-3);\n",
              "  color: var(--sklearn-color-background);\n",
              "  text-decoration: none;\n",
              "}\n",
              "\n",
              "div.sk-estimator.fitted:hover .sk-estimator-doc-link.fitted:hover,\n",
              ".sk-estimator-doc-link.fitted:hover,\n",
              "div.sk-label-container:hover .sk-estimator-doc-link.fitted:hover,\n",
              ".sk-estimator-doc-link.fitted:hover {\n",
              "  /* fitted */\n",
              "  background-color: var(--sklearn-color-fitted-level-3);\n",
              "  color: var(--sklearn-color-background);\n",
              "  text-decoration: none;\n",
              "}\n",
              "\n",
              "/* Span, style for the box shown on hovering the info icon */\n",
              ".sk-estimator-doc-link span {\n",
              "  display: none;\n",
              "  z-index: 9999;\n",
              "  position: relative;\n",
              "  font-weight: normal;\n",
              "  right: .2ex;\n",
              "  padding: .5ex;\n",
              "  margin: .5ex;\n",
              "  width: min-content;\n",
              "  min-width: 20ex;\n",
              "  max-width: 50ex;\n",
              "  color: var(--sklearn-color-text);\n",
              "  box-shadow: 2pt 2pt 4pt #999;\n",
              "  /* unfitted */\n",
              "  background: var(--sklearn-color-unfitted-level-0);\n",
              "  border: .5pt solid var(--sklearn-color-unfitted-level-3);\n",
              "}\n",
              "\n",
              ".sk-estimator-doc-link.fitted span {\n",
              "  /* fitted */\n",
              "  background: var(--sklearn-color-fitted-level-0);\n",
              "  border: var(--sklearn-color-fitted-level-3);\n",
              "}\n",
              "\n",
              ".sk-estimator-doc-link:hover span {\n",
              "  display: block;\n",
              "}\n",
              "\n",
              "/* \"?\"-specific style due to the `<a>` HTML tag */\n",
              "\n",
              "#sk-container-id-6 a.estimator_doc_link {\n",
              "  float: right;\n",
              "  font-size: 1rem;\n",
              "  line-height: 1em;\n",
              "  font-family: monospace;\n",
              "  background-color: var(--sklearn-color-background);\n",
              "  border-radius: 1rem;\n",
              "  height: 1rem;\n",
              "  width: 1rem;\n",
              "  text-decoration: none;\n",
              "  /* unfitted */\n",
              "  color: var(--sklearn-color-unfitted-level-1);\n",
              "  border: var(--sklearn-color-unfitted-level-1) 1pt solid;\n",
              "}\n",
              "\n",
              "#sk-container-id-6 a.estimator_doc_link.fitted {\n",
              "  /* fitted */\n",
              "  border: var(--sklearn-color-fitted-level-1) 1pt solid;\n",
              "  color: var(--sklearn-color-fitted-level-1);\n",
              "}\n",
              "\n",
              "/* On hover */\n",
              "#sk-container-id-6 a.estimator_doc_link:hover {\n",
              "  /* unfitted */\n",
              "  background-color: var(--sklearn-color-unfitted-level-3);\n",
              "  color: var(--sklearn-color-background);\n",
              "  text-decoration: none;\n",
              "}\n",
              "\n",
              "#sk-container-id-6 a.estimator_doc_link.fitted:hover {\n",
              "  /* fitted */\n",
              "  background-color: var(--sklearn-color-fitted-level-3);\n",
              "}\n",
              "</style><div id=\"sk-container-id-6\" class=\"sk-top-container\"><div class=\"sk-text-repr-fallback\"><pre>MultinomialNB()</pre><b>In a Jupyter environment, please rerun this cell to show the HTML representation or trust the notebook. <br />On GitHub, the HTML representation is unable to render, please try loading this page with nbviewer.org.</b></div><div class=\"sk-container\" hidden><div class=\"sk-item\"><div class=\"sk-estimator fitted sk-toggleable\"><input class=\"sk-toggleable__control sk-hidden--visually\" id=\"sk-estimator-id-6\" type=\"checkbox\" checked><label for=\"sk-estimator-id-6\" class=\"sk-toggleable__label fitted sk-toggleable__label-arrow\"><div><div>MultinomialNB</div></div><div><a class=\"sk-estimator-doc-link fitted\" rel=\"noreferrer\" target=\"_blank\" href=\"https://scikit-learn.org/1.6/modules/generated/sklearn.naive_bayes.MultinomialNB.html\">?<span>Documentation for MultinomialNB</span></a><span class=\"sk-estimator-doc-link fitted\">i<span>Fitted</span></span></div></label><div class=\"sk-toggleable__content fitted\"><pre>MultinomialNB()</pre></div> </div></div></div></div>"
            ],
            "text/plain": [
              "MultinomialNB()"
            ]
          },
          "execution_count": 154,
          "metadata": {},
          "output_type": "execute_result"
        }
      ],
      "source": [
        "print(\"Training model...\")\n",
        "model = MultinomialNB()\n",
        "model.fit(X_train_vec, y_train)\n"
      ]
    },
    {
      "cell_type": "code",
      "execution_count": 155,
      "metadata": {
        "colab": {
          "base_uri": "https://localhost:8080/"
        },
        "id": "jdSGehafQSoN",
        "outputId": "b4dcb5e3-6b1a-4164-87d8-5df8e1c72f94"
      },
      "outputs": [
        {
          "name": "stdout",
          "output_type": "stream",
          "text": [
            "\n",
            "Evaluating model...\n",
            "Accuracy: 0.63\n",
            "\n",
            "Classification Report:\n",
            "               precision    recall  f1-score   support\n",
            "\n",
            "       Action       0.53      0.94      0.68      4898\n",
            "    Adventure       0.87      0.25      0.39       836\n",
            "Miscellaneous       0.66      0.49      0.56      2719\n",
            "       Racing       0.94      0.49      0.64       794\n",
            " Role-Playing       0.83      0.59      0.69      1892\n",
            "   Simulation       0.91      0.09      0.17       515\n",
            "       Sports       0.92      0.56      0.70      1031\n",
            "     Strategy       0.83      0.42      0.55      1484\n",
            "\n",
            "     accuracy                           0.63     14169\n",
            "    macro avg       0.81      0.48      0.55     14169\n",
            " weighted avg       0.71      0.63      0.61     14169\n",
            "\n"
          ]
        }
      ],
      "source": [
        "print(\"\\nEvaluating model...\")\n",
        "y_pred = model.predict(X_test_vec)\n",
        "print(f\"Accuracy: {accuracy_score(y_test, y_pred):.2f}\")\n",
        "print(\"\\nClassification Report:\")\n",
        "print(classification_report(y_test, y_pred))"
      ]
    },
    {
      "cell_type": "code",
      "execution_count": 156,
      "metadata": {
        "colab": {
          "base_uri": "https://localhost:8080/"
        },
        "id": "DlOxCHPjdho-",
        "outputId": "b20bf24e-a506-4775-92c8-989cc6588227"
      },
      "outputs": [
        {
          "name": "stdout",
          "output_type": "stream",
          "text": [
            "\n",
            "Saving model...\n",
            "Model saved successfully!\n"
          ]
        }
      ],
      "source": [
        "print(\"\\nSaving model...\")\n",
        "joblib.dump(model, 'genre_classifier.pkl')\n",
        "joblib.dump(vectorizer, 'tfidf_vectorizer.pkl')\n",
        "print(\"Model saved successfully!\")"
      ]
    },
    {
      "cell_type": "code",
      "execution_count": 157,
      "metadata": {
        "id": "a6PHmLQ_oYom"
      },
      "outputs": [],
      "source": [
        "model = joblib.load('genre_classifier.pkl')\n",
        "vectorizer = joblib.load('tfidf_vectorizer.pkl')"
      ]
    },
    {
      "cell_type": "code",
      "execution_count": 158,
      "metadata": {
        "colab": {
          "base_uri": "https://localhost:8080/"
        },
        "id": "9UpKVal-oiA9",
        "outputId": "1a8601ef-2eca-4c6d-b245-544a043b5e5b"
      },
      "outputs": [
        {
          "name": "stdout",
          "output_type": "stream",
          "text": [
            "\n",
            "Testing top 3 predictions:\n",
            "Top 3 genres: [np.str_('Role-Playing'), np.str_('Action'), np.str_('Miscellaneous')]\n",
            "With probabilities:\n",
            "Role-Playing: 0.5744\n",
            "Action: 0.1543\n",
            "Miscellaneous: 0.1192\n",
            "\n",
            "Evaluating top-3 accuracy on test set...\n",
            "Top-3 Accuracy: 0.89\n"
          ]
        }
      ],
      "source": [
        "test_review = \"It’s a story worthy of a place in the more accepted subculture of dark fantasy ruled across media by Game of Thrones. First-timers will easily love this facet but may also be surprised to learn that this series, and the books it’s based upon, have been the at the fore of adult and mature storytelling for a long time. Wild Hunt is both at times brutal and sexy, with a juxtaposition of hard-edged steel (or silver), blood and death being met with soft, naked skin; passion, lust and even love.\"\n",
        "print(\"\\nTesting top 3 predictions:\")\n",
        "top_preds = get_top_predictions(model, vectorizer, test_review, top_n=3)\n",
        "\n",
        "\n",
        "genres_only = [pred[0] for pred in top_preds]\n",
        "print(f\"Top 3 genres: {genres_only}\")\n",
        "print(\"With probabilities:\")\n",
        "for genre, prob in top_preds:\n",
        "    print(f\"{genre}: {prob:.4f}\")\n",
        "\n",
        "\n",
        "print(\"\\nEvaluating top-3 accuracy on test set...\")\n",
        "top3_correct = 0\n",
        "\n",
        "\n",
        "X_test_vec = vectorizer.transform(df_test['clean_review'])\n",
        "probabilities = model.predict_proba(X_test_vec)\n",
        "\n",
        "for i in range(len(df_test)):\n",
        "    actual_genre = y_test.iloc[i]\n",
        "    probs = probabilities[i]\n",
        "    sorted_indices = np.argsort(probs)[::-1]\n",
        "    top_genres = [model.classes_[idx] for idx in sorted_indices[:3]]\n",
        "\n",
        "    if actual_genre in top_genres:\n",
        "        top3_correct += 1\n",
        "\n",
        "print(f\"Top-3 Accuracy: {top3_correct/len(df_test):.2f}\")"
      ]
    },
    {
      "cell_type": "code",
      "execution_count": 159,
      "metadata": {
        "id": "fUHpLmuLos0X"
      },
      "outputs": [],
      "source": [
        "def predict_top3_genres(text):\n",
        "    \"\"\"Predict top 3 genres for new text, sorted by probability (highest first)\"\"\"\n",
        "\n",
        "    clean_text = normalize_text(text)\n",
        "    if not clean_text:\n",
        "        return [\"Unknown\", \"Unknown\", \"Unknown\"]\n",
        "\n",
        "\n",
        "    vec = vectorizer.transform([clean_text])\n",
        "\n",
        "    probabilities = model.predict_proba(vec)[0]\n",
        "\n",
        "\n",
        "    sorted_indices = np.argsort(probabilities)[::-1]\n",
        "\n",
        "    return [model.classes_[idx] for idx in sorted_indices[:3]]"
      ]
    },
    {
      "cell_type": "code",
      "execution_count": 160,
      "metadata": {
        "colab": {
          "base_uri": "https://localhost:8080/"
        },
        "id": "LlqEtTobpnEN",
        "outputId": "e38e3870-cbc9-4cac-cd86-7bc920ec360a"
      },
      "outputs": [
        {
          "name": "stdout",
          "output_type": "stream",
          "text": [
            "\n",
            "Final prediction function example:\n",
            "Input: 'Forza Horizon 5 is a visual sp...'\n",
            "Top 3 genres: [np.str_('Racing'), np.str_('Miscellaneous'), np.str_('Action')]\n"
          ]
        }
      ],
      "source": [
        "print(\"\\nFinal prediction function example:\")\n",
        "test_text = \"Forza Horizon 5 is a visual spectacle and a masterpiece, providing plenty to do and tons of fun to be had around every corner.\"\n",
        "top3 = predict_top3_genres(test_text)\n",
        "print(f\"Input: '{test_text[:30]}...'\")\n",
        "print(f\"Top 3 genres: {top3}\")"
      ]
    },
    {
      "cell_type": "code",
      "execution_count": 161,
      "metadata": {
        "id": "HFcW_11LQfmz"
      },
      "outputs": [],
      "source": [
        "test_reviews = [\n",
        "    \"Epic fantasy adventure with swords and magic battles\",\n",
        "    \"Fast-paced shooting action in futuristic cityscape\",\n",
        "    \"Solve intricate puzzles in mysterious ancient ruins\",\n",
        "    \"Racing through neon-lit streets at 200mph\",\n",
        "    \"Building civilizations from scratch through the ages\",\n",
        "    \"Rematch has good bones. It’s full of energy, raw and unbridled. But it’s a rough diamond, and rougher than most. The game has serious issues that border on rendering the game completely unfun. But if players stick around for long enough for developer Sloclap to polish those defects, to improve the servers and make goalkeeping feel responsive, then we might just have something here. At the moment, it’s a bit of a mess. But it’s a mess that keeps you coming back, that forces you to play ‘one more match’ in case it’s the one where you finally net a hat trick of bicycle kicks. And it’s a game I’d prefer to play over EA FC any day.\",\n",
        "    \"REMATCH is the ultimate arcade soccer game out there when it works. With network issues and game-breaking bugs, Sloclap has to resolve these issues before they can score the golden goal.\",\n",
        "    \"Rematch stands as a rare and bold attempt to faithfully translate real-world soccer (or football) into the online competitive gaming space—and it pulls it off really well. Though it can feel rather punishing to learn, this competitive game is there for anyone looking to experience the thrill of a real-world sport in an online space.\",\n",
        "    \"It’s easy to dismiss EA Sports FC 25 as a glorified reskin of EA Sports FC 24 – and in many respects, it is – but the customarily small tweaks made to graphics and gameplay add up to a near-perfect sports game experience. This is total football.\"\n",
        "]"
      ]
    },
    {
      "cell_type": "code",
      "execution_count": 162,
      "metadata": {
        "colab": {
          "base_uri": "https://localhost:8080/"
        },
        "id": "3oFuxu7sQiH5",
        "outputId": "b06fd6cf-85a4-4edb-e829-4998e8b976ed"
      },
      "outputs": [
        {
          "name": "stdout",
          "output_type": "stream",
          "text": [
            "\n",
            "Test predictions:\n",
            "'Epic fantasy adventure with swords and magic battl...' → Role-Playing\n",
            "'Fast-paced shooting action in futuristic cityscape...' → Action\n",
            "'Solve intricate puzzles in mysterious ancient ruin...' → Adventure\n",
            "'Racing through neon-lit streets at 200mph...' → Racing\n",
            "'Building civilizations from scratch through the ag...' → Strategy\n",
            "'Rematch has good bones. It’s full of energy, raw a...' → Action\n",
            "'REMATCH is the ultimate arcade soccer game out the...' → Sports\n",
            "'Rematch stands as a rare and bold attempt to faith...' → Action\n",
            "'It’s easy to dismiss EA Sports FC 25 as a glorifie...' → Sports\n"
          ]
        }
      ],
      "source": [
        "print(\"\\nTest predictions:\")\n",
        "for review in test_reviews:\n",
        "    clean_review = normalize_text(review)\n",
        "    if clean_review:\n",
        "        vectorized = vectorizer.transform([clean_review])\n",
        "        prediction = model.predict(vectorized)[0]\n",
        "        print(f\"'{review[:50]}...' → {prediction}\")\n",
        "    else:\n",
        "        print(f\"'{review[:50]}...' → [EMPTY AFTER PROCESSING]\")"
      ]
    },
    {
      "cell_type": "code",
      "execution_count": 163,
      "metadata": {
        "colab": {
          "base_uri": "https://localhost:8080/"
        },
        "collapsed": true,
        "id": "_Ij8spe20a7t",
        "outputId": "68ffca28-0ec2-468f-da08-7fde138f10cd"
      },
      "outputs": [
        {
          "name": "stdout",
          "output_type": "stream",
          "text": [
            "results: \n",
            "\n",
            "==================================================\n",
            "Enter a game review (or type 'exit' to quit): exit\n",
            "Exiting manual testing.\n"
          ]
        }
      ],
      "source": [
        "def test_manual_review():\n",
        "    \"\"\"Test the model with manually entered reviews\"\"\"\n",
        "    while True:\n",
        "        print(\"\\n\" + \"=\"*50)\n",
        "        review = input(\"Enter a game review (or type 'exit' to quit): \")\n",
        "\n",
        "        if review.lower() == 'exit':\n",
        "            print(\"Exiting manual testing.\")\n",
        "            break\n",
        "\n",
        "        top_preds = get_top_predictions(model, vectorizer, review, top_n=3)\n",
        "\n",
        "        print(\"\\nTop 3 predicted genres:\")\n",
        "        genres_only = [pred[0] for pred in top_preds]\n",
        "        print(f\"1. {genres_only[0]} (Most likely)\")\n",
        "        print(f\"2. {genres_only[1]}\")\n",
        "        print(f\"3. {genres_only[2]} (Least likely of top 3)\")\n",
        "\n",
        "        print(\"\\nWith probabilities:\")\n",
        "        for genre, prob in top_preds:\n",
        "            print(f\"{genre}: {prob:.3f}\")\n",
        "\n",
        "        print(\"\\n\" + \"-\"*50)\n",
        "\n",
        "print(\"results: \")\n",
        "test_manual_review()"
      ]
    }
  ],
  "metadata": {
    "colab": {
      "provenance": []
    },
    "kernelspec": {
      "display_name": "Python 3",
      "name": "python3"
    },
    "language_info": {
      "name": "python"
    }
  },
  "nbformat": 4,
  "nbformat_minor": 0
}
